{
 "cells": [
  {
   "cell_type": "markdown",
   "metadata": {},
   "source": [
    "# Script to plot the CPU usage of a White Rabbit Switch\n",
    "\n",
    "To understand the influence of the SNMP queries on the WR Switch performance, i.e. its average CPU usage, several tests have been performed. \n",
    "* Influence of the number of SNMP queries \n",
    "* Influence of different firmware versions"
   ]
  },
  {
   "cell_type": "code",
   "execution_count": null,
   "metadata": {},
   "outputs": [],
   "source": [
    "import os,sys\n",
    "import pandas as pd\n",
    "import numpy as np"
   ]
  },
  {
   "cell_type": "code",
   "execution_count": null,
   "metadata": {},
   "outputs": [],
   "source": [
    "%matplotlib inline\n",
    "import matplotlib\n",
    "from matplotlib import pyplot as plt\n",
    "#plt.rcParams[\"figure.dpi\"] = 300"
   ]
  },
  {
   "cell_type": "markdown",
   "metadata": {},
   "source": [
    "# Influence of the number of SNMP queries (H.E.S.S.-like setup)\n",
    "\n",
    "Three different telegraf configurations have been used on three different WR switches, mimicing a H.E.S.S.-like setup where in the end 6 WR nodes (5 cameras + 1 central trigger) are connected to the switch (currently running as FW v5.0.1). \n",
    "\n",
    "* Setup 1 - All currently monitored OIDs are queried (36 in total - only 6 ports are considered)\n",
    "* Setup 2 - All (identified to be most likely) useful OIDs are queried (113 in total - all 18 ports are considered)\n",
    "* Setup 3 - All fields and tables are queried. "
   ]
  },
  {
   "cell_type": "code",
   "execution_count": null,
   "metadata": {},
   "outputs": [],
   "source": [
    "### Get the data from the influxDB (telegraf queries) and store to file\n",
    "# from influxdb import InfluxDBClient, DataFrameClient\n",
    "\n",
    "# host = \"localhost\"\n",
    "# port = 8086\n",
    "# user = \"root\"\n",
    "# password = \"root\"\n",
    "# dbname = \"telegraf_hess\"\n",
    "\n",
    "# client = DataFrameClient(host, port, user, password, dbname)\n",
    "\n",
    "# datadict = client.query(\"SELECT * from snmp\")\n",
    "# data = datadict[\"snmp\"]\n",
    "\n",
    "# data.to_csv(\"/home/prokoph/CTA/ArrayClockSystem/WRS/MonitoringWRSS/hess_cpu_test.v0.csv\")"
   ]
  },
  {
   "cell_type": "markdown",
   "metadata": {},
   "source": [
    "## Using data from empty WR switches"
   ]
  },
  {
   "cell_type": "code",
   "execution_count": null,
   "metadata": {
    "scrolled": false
   },
   "outputs": [],
   "source": [
    "snmp = pd.read_csv(\"/home/prokoph/CTA/ArrayClock_Work/WRS/MonitoringWRSS/hess_cpu_test.v0.csv\",index_col=0, parse_dates=True)\n",
    "print(snmp.shape)\n",
    "snmp.tail(3)"
   ]
  },
  {
   "cell_type": "code",
   "execution_count": null,
   "metadata": {},
   "outputs": [],
   "source": [
    "wrs1 = snmp['agent_host'].map(lambda x: x == '192.168.4.31')\n",
    "wrs2 = snmp['agent_host'].map(lambda x: x == '192.168.4.32')\n",
    "wrs3 = snmp['agent_host'].map(lambda x: x == '192.168.4.33')\n",
    "\n",
    "# make selection for one variable only (and remove all NaN to make plots look nicer)\n",
    "cpu1 = snmp[wrs1].loc['2020-08-08':'2020-08-09']\n",
    "cpu1 = cpu1[np.isfinite(cpu1['wrsCPULoadAvg15min'])]\n",
    "cpu2 = snmp[wrs2].loc['2020-08-08':'2020-08-09']\n",
    "cpu2 = cpu2[np.isfinite(cpu2['wrsCPULoadAvg15min'])]\n",
    "cpu3 = snmp[wrs3].loc['2020-08-08':'2020-08-09']\n",
    "cpu3 = cpu3[np.isfinite(cpu3['wrsCPULoadAvg15min'])]"
   ]
  },
  {
   "cell_type": "markdown",
   "metadata": {},
   "source": [
    "### Plot as time series"
   ]
  },
  {
   "cell_type": "code",
   "execution_count": null,
   "metadata": {},
   "outputs": [],
   "source": [
    "ax = cpu1.wrsCPULoadAvg15min.plot(figsize=(15,8), label='Setup 1')\n",
    "ax = cpu2.wrsCPULoadAvg15min.plot(figsize=(15,8), label='Setup 2')\n",
    "ax = cpu3.wrsCPULoadAvg15min.plot(figsize=(15,8), label='Setup 3')\n",
    "\n",
    "ax.set_title('Average CPU laod of a WR Switch (v5.0, no WR nodes connected)')\n",
    "ax.set_ylabel('CPU load [%]')\n",
    "ax.legend()\n",
    "\n",
    "# print time (in percent) above CPU load of 50% \n",
    "t1 = (~cpu1['wrsCPULoadAvg15min'].between(0, 50)).sum()\n",
    "t2 = (~cpu2['wrsCPULoadAvg15min'].between(0, 50)).sum()\n",
    "t3 = (~cpu3['wrsCPULoadAvg15min'].between(0, 50)).sum()\n",
    "print(t1*100/cpu1['wrsCPULoadAvg15min'].count())\n",
    "print(t2*100/cpu2['wrsCPULoadAvg15min'].count())\n",
    "print(t3*100/cpu3['wrsCPULoadAvg15min'].count())"
   ]
  },
  {
   "cell_type": "markdown",
   "metadata": {},
   "source": [
    "### Plot as histogram "
   ]
  },
  {
   "cell_type": "code",
   "execution_count": null,
   "metadata": {},
   "outputs": [],
   "source": [
    "# cut on common time range (empty switches)\n",
    "wrs1_empty = cpu1\n",
    "wrs2_empty = cpu2\n",
    "wrs3_empty = cpu3\n",
    "\n",
    "# get median of CPU time distribution\n",
    "m1_empty = wrs1_empty['wrsCPULoadAvg15min'].mean()\n",
    "s1_empty = wrs1_empty['wrsCPULoadAvg15min'].std()\n",
    "label1_empty = ('Setup 1 (mean = %.1f%% $\\pm$ %.1f%%)' % (m1_empty,s1_empty))\n",
    "m2_empty = wrs2_empty['wrsCPULoadAvg15min'].mean()\n",
    "s2_empty = wrs2_empty['wrsCPULoadAvg15min'].std()\n",
    "label2_empty = ('Setup 2 (mean = %.1f%% $\\pm$ %.1f%%)' % (m2_empty,s2_empty))\n",
    "m3_empty = wrs3_empty['wrsCPULoadAvg15min'].mean()\n",
    "s3_empty = wrs3_empty['wrsCPULoadAvg15min'].std()\n",
    "label3_empty = ('Setup 3 (mean = %.1f%% $\\pm$ %.1f%%)' % (m3_empty,s3_empty))\n",
    "\n",
    "# do the plotting\n",
    "fig = plt.figure(figsize=(10,6))\n",
    "ax = fig.add_subplot(1, 1, 1)\n",
    "\n",
    "# histogram binning\n",
    "mybins = 50\n",
    "myrange=(0,100)\n",
    "\n",
    "wrs1_empty.hist(column='wrsCPULoadAvg15min',\n",
    "             bins=mybins, range=myrange, ax=ax, alpha=0.4, label=label1_empty)\n",
    "wrs2_empty.hist(column='wrsCPULoadAvg15min',\n",
    "             bins=mybins, range=myrange, ax=ax, alpha=0.4, label=label2_empty)\n",
    "wrs3_empty.hist(column='wrsCPULoadAvg15min',\n",
    "             bins=mybins, range=myrange, ax=ax, alpha=0.3, label=label3_empty)\n",
    "\n",
    "plt.title('WR Switch (v5.0, no WR nodes connected)')\n",
    "plt.xlabel('15min average CPU load [%]')\n",
    "plt.legend()\n",
    "\n",
    "fig = plt.figure(figsize=(10,6))\n",
    "ax = fig.add_subplot(1, 1, 1)\n",
    "# histogram binning\n",
    "mybins = 80\n",
    "myrange=(0,80)\n",
    "\n",
    "wrs1_empty.hist(column='wrsCPULoadAvg15min',\n",
    "             bins=mybins, range=myrange, ax=ax, linewidth=3, histtype='step', label=label1_empty)\n",
    "wrs2_empty.hist(column='wrsCPULoadAvg15min',\n",
    "             bins=mybins, range=myrange, ax=ax, linewidth=3, histtype='step', label=label2_empty)\n",
    "\n",
    "plt.title('WR Switch (v5.0, no WR nodes connected)')\n",
    "plt.xlabel('15min average CPU load [%]')\n",
    "plt.legend()"
   ]
  },
  {
   "cell_type": "markdown",
   "metadata": {},
   "source": [
    "## Using data from WR switches with 6 nodes connected"
   ]
  },
  {
   "cell_type": "code",
   "execution_count": null,
   "metadata": {},
   "outputs": [],
   "source": [
    "snmp = pd.read_csv(\"/home/prokoph/CTA/ArrayClock_Work/WRS/MonitoringWRSS/hess_cpu_test.v1.csv\",index_col=0, parse_dates=True)"
   ]
  },
  {
   "cell_type": "code",
   "execution_count": null,
   "metadata": {},
   "outputs": [],
   "source": [
    "wrs1 = snmp['agent_host'].map(lambda x: x == '192.168.4.31')\n",
    "wrs2 = snmp['agent_host'].map(lambda x: x == '192.168.4.32')\n",
    "\n",
    "# make selection for one variable only (and remove all NaN to make plots look nicer)\n",
    "cpu1 = snmp[wrs1].loc['2020-08-10':'2020-08-12']\n",
    "cpu1 = cpu1[np.isfinite(cpu1['wrsCPULoadAvg15min'])]\n",
    "cpu2 = snmp[wrs2].loc['2020-08-10':'2020-08-12']\n",
    "cpu2 = cpu2[np.isfinite(cpu2['wrsCPULoadAvg15min'])]"
   ]
  },
  {
   "cell_type": "code",
   "execution_count": null,
   "metadata": {},
   "outputs": [],
   "source": [
    "ax = cpu1.wrsCPULoadAvg15min.plot(figsize=(15,8), label='Setup 1')\n",
    "ax = cpu2.wrsCPULoadAvg15min.plot(figsize=(15,8), label='Setup 2')\n",
    "\n",
    "ax.set_title('Average CPU laod of a WR Switch (v5.0, six WR nodes connected)')\n",
    "ax.set_ylabel('CPU load [%]')\n",
    "ax.legend()\n",
    "\n",
    "t1 = (~cpu1['wrsCPULoadAvg15min'].between(0, 50)).sum()\n",
    "t2 = (~cpu2['wrsCPULoadAvg15min'].between(0, 50)).sum()\n",
    "print(t1*100/cpu1['wrsCPULoadAvg15min'].count())\n",
    "print(t2*100/cpu2['wrsCPULoadAvg15min'].count())"
   ]
  },
  {
   "cell_type": "code",
   "execution_count": null,
   "metadata": {},
   "outputs": [],
   "source": [
    "# get median of CPU time distribution\n",
    "m1 = cpu1['wrsCPULoadAvg15min'].mean()\n",
    "s1 = cpu1['wrsCPULoadAvg15min'].std()\n",
    "label1 = ('Setup 1 (mean = %.1f%% $\\pm$ %.1f%%)' % (m1,s1))\n",
    "m2 = cpu2['wrsCPULoadAvg15min'].mean()\n",
    "s2 = cpu2['wrsCPULoadAvg15min'].std()\n",
    "label2 = ('Setup 2 (mean = %.1f%% $\\pm$ %.1f%%)' % (m2,s2))\n",
    "\n",
    "# do the plotting\n",
    "fig = plt.figure(figsize=(10,6))\n",
    "ax = fig.add_subplot(1, 1, 1)\n",
    "\n",
    "# histogram binning\n",
    "mybins = 50\n",
    "myrange=(0,100)\n",
    "\n",
    "cpu1.hist(column='wrsCPULoadAvg15min',\n",
    "             bins=mybins, range=myrange, ax=ax, alpha=0.4, label=label1)\n",
    "cpu2.hist(column='wrsCPULoadAvg15min',\n",
    "             bins=mybins, range=myrange, ax=ax, alpha=0.4, label=label2)\n",
    "\n",
    "plt.title('WR Switch (v5.0, six WR nodes connected)')\n",
    "plt.xlabel('15min average CPU load [%]')\n",
    "plt.legend()\n",
    "\n",
    "# fig = plt.figure(figsize=(10,6))\n",
    "# ax = fig.add_subplot(1, 1, 1)\n",
    "# # histogram binning\n",
    "# mybins = 80\n",
    "# myrange=(0,80)\n",
    "\n",
    "# cpu1.hist(column='wrsCPULoadAvg15min',\n",
    "#             bins=mybins, range=myrange, ax=ax, linewidth=3, histtype='step', label=label1)\n",
    "# cpu2.hist(column='wrsCPULoadAvg15min',\n",
    "#              bins=mybins, range=myrange, ax=ax, linewidth=3, histtype='step', label=label2)\n",
    "\n",
    "# plt.title('WR Switch (v5.0, six WR nodes connected)')\n",
    "# plt.xlabel('15min average CPU load [%]')\n",
    "# plt.legend()"
   ]
  },
  {
   "cell_type": "markdown",
   "metadata": {},
   "source": [
    "### Comparison plots"
   ]
  },
  {
   "cell_type": "code",
   "execution_count": null,
   "metadata": {},
   "outputs": [],
   "source": [
    "fig = plt.figure(figsize=(16,6))\n",
    "\n",
    "ax1 = fig.add_subplot(1, 2, 1)\n",
    "mybins = 40\n",
    "myrange=(0,80)\n",
    "\n",
    "l1 = ('Switch w/o nodes (mean = %.1f%% $\\pm$ %.1f%%)' % (m1_empty,s1_empty))\n",
    "l2 = ('Switch w/ 6 nodes (mean = %.1f%% $\\pm$ %.1f%%)' % (m1,s1))\n",
    "\n",
    "wrs1_empty.hist(column='wrsCPULoadAvg15min',\n",
    "             bins=mybins, range=myrange, ax=ax1, alpha=0.4, label=l1)\n",
    "cpu1.hist(column='wrsCPULoadAvg15min',\n",
    "             bins=mybins, range=myrange, ax=ax1, alpha=0.4, label=l2)\n",
    "\n",
    "plt.title('Setup 1')\n",
    "plt.xlabel('15min average CPU load [%]')\n",
    "plt.legend()\n",
    "\n",
    "ax2 = fig.add_subplot(1, 2, 2)\n",
    "mybins = 40\n",
    "myrange=(0,80)\n",
    "\n",
    "l1 = ('Switch w/o nodes (mean = %.1f%% $\\pm$ %.1f%%)' % (m2_empty,s2_empty))\n",
    "l2 = ('Switch w/ 6 nodes (mean = %.1f%% $\\pm$ %.1f%%)' % (m2,s2) )\n",
    "\n",
    "wrs2_empty.hist(column='wrsCPULoadAvg15min',\n",
    "             bins=mybins, range=myrange, ax=ax2, alpha=0.4, label=l1)\n",
    "cpu2.hist(column='wrsCPULoadAvg15min',\n",
    "             bins=mybins, range=myrange, ax=ax2, alpha=0.4, label=l2)\n",
    "\n",
    "\n",
    "plt.title('Setup 2')\n",
    "plt.xlabel('15min average CPU load [%]')\n",
    "plt.legend()"
   ]
  },
  {
   "cell_type": "code",
   "execution_count": null,
   "metadata": {},
   "outputs": [],
   "source": []
  },
  {
   "cell_type": "code",
   "execution_count": null,
   "metadata": {},
   "outputs": [],
   "source": []
  }
 ],
 "metadata": {
  "kernelspec": {
   "display_name": "Python 3",
   "language": "python",
   "name": "python3"
  },
  "language_info": {
   "codemirror_mode": {
    "name": "ipython",
    "version": 3
   },
   "file_extension": ".py",
   "mimetype": "text/x-python",
   "name": "python",
   "nbconvert_exporter": "python",
   "pygments_lexer": "ipython3",
   "version": "3.7.7"
  }
 },
 "nbformat": 4,
 "nbformat_minor": 2
}
