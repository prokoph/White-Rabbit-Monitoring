{
 "cells": [
  {
   "cell_type": "code",
   "execution_count": null,
   "metadata": {},
   "outputs": [],
   "source": [
    "import os,sys\n",
    "import pandas as pd\n",
    "import numpy as np"
   ]
  },
  {
   "cell_type": "code",
   "execution_count": null,
   "metadata": {},
   "outputs": [],
   "source": [
    "%matplotlib inline\n",
    "import matplotlib\n",
    "from matplotlib import pyplot as plt"
   ]
  },
  {
   "cell_type": "markdown",
   "metadata": {},
   "source": [
    "# Data Stuff"
   ]
  },
  {
   "cell_type": "markdown",
   "metadata": {},
   "source": [
    "### Temperature from Environmental Sensors"
   ]
  },
  {
   "cell_type": "code",
   "execution_count": null,
   "metadata": {},
   "outputs": [],
   "source": [
    "temp = pd.read_csv(\"/home/prokoph/CTA/ArrayClock_Work/WRS/MonitoringWRSS/weather_Jan13.csv\",index_col=0, parse_dates=True)\n",
    "print(temp.shape)\n",
    "temp.tail(4)"
   ]
  },
  {
   "cell_type": "markdown",
   "metadata": {},
   "source": [
    "### PtPData (incl RTT) from telegraf DB"
   ]
  },
  {
   "cell_type": "code",
   "execution_count": null,
   "metadata": {},
   "outputs": [],
   "source": [
    "ptp = pd.read_csv(\"/home/prokoph/CTA/ArrayClock_Work/WRS/MonitoringWRSS/PtpData_Jan13.csv\",index_col=0, parse_dates=True)\n",
    "print(ptp.shape)\n",
    "ptp.tail(4)"
   ]
  },
  {
   "cell_type": "code",
   "execution_count": null,
   "metadata": {},
   "outputs": [],
   "source": [
    "wrs2_ptp = ptp['agent_host'].map(lambda x: x == '192.168.4.32')\n",
    "rtt2 = ptp[wrs2_ptp]\n",
    "rtt2 = rtt2[np.isfinite(rtt2['wrsPtpRTT'])]\n",
    "\n",
    "wrs3_ptp = ptp['agent_host'].map(lambda x: x == '192.168.4.33')\n",
    "rtt3 = ptp[wrs3_ptp]\n",
    "rtt3 = rtt3[np.isfinite(rtt3['wrsPtpRTT'])]\n",
    "\n",
    "wrs4_ptp = ptp['agent_host'].map(lambda x: x == '192.168.4.34')\n",
    "rtt4 = ptp[wrs4_ptp]\n",
    "rtt4 = rtt4[np.isfinite(rtt4['wrsPtpRTT'])]\n"
   ]
  },
  {
   "cell_type": "markdown",
   "metadata": {},
   "source": [
    "### snmp fields from telegraf DB"
   ]
  },
  {
   "cell_type": "code",
   "execution_count": null,
   "metadata": {},
   "outputs": [],
   "source": [
    "snmp = pd.read_csv(\"/home/prokoph/CTA/ArrayClock_Work/WRS/MonitoringWRSS/snmp_Jan13.csv\",index_col=0, parse_dates=True)\n",
    "print(snmp.shape)\n",
    "#snmp.tail(4)\n",
    "snmp.head(4)"
   ]
  },
  {
   "cell_type": "code",
   "execution_count": null,
   "metadata": {},
   "outputs": [],
   "source": [
    "wrs1_snmp = snmp['agent_host'].map(lambda x: x == '192.168.4.31')\n",
    "wrs2_snmp = snmp['agent_host'].map(lambda x: x == '192.168.4.32')\n",
    "wrs3_snmp = snmp['agent_host'].map(lambda x: x == '192.168.4.33')\n",
    "wrs4_snmp = snmp['agent_host'].map(lambda x: x == '192.168.4.34')\n",
    "wrs5_snmp = snmp['agent_host'].map(lambda x: x == '192.168.4.35')\n",
    "wrs6_snmp = snmp['agent_host'].map(lambda x: x == '192.168.4.165')\n",
    "\n",
    "# make selection for one variable only (and remove all NaN to make plots look nicer)\n",
    "#cpu5_snmp = snmp[wrs5_snmp]\n",
    "#cpu5_snmp = cpu5_snmp[np.isfinite(cpu5_snmp['wrsCPULoadAvg15min'])]\n",
    "#cpu6_snmp = snmp[wrs6_snmp]\n",
    "#cpu6_snmp = cpu6_snmp[np.isfinite(cpu6_snmp['wrsCPULoadAvg15min'])]"
   ]
  },
  {
   "cell_type": "markdown",
   "metadata": {},
   "source": [
    "### Timing from oszi DB"
   ]
  },
  {
   "cell_type": "code",
   "execution_count": null,
   "metadata": {},
   "outputs": [],
   "source": [
    "oszi = pd.read_csv(\"/home/prokoph/CTA/ArrayClock_Work/WRS/MonitoringWRSS/timing_Jan13.csv\",index_col=0, parse_dates=True)\n",
    "print(oszi.shape)\n",
    "oszi.tail(4)"
   ]
  },
  {
   "cell_type": "code",
   "execution_count": null,
   "metadata": {},
   "outputs": [],
   "source": [
    "wrs2_oszi = oszi['link'].map(lambda x: x == 'wrs1-wrs2')\n",
    "wrs2_oszi = oszi[wrs2_oszi]\n",
    "wrs3_oszi = oszi['link'].map(lambda x: x == 'wrs1-wrs3')\n",
    "wrs3_oszi = oszi[wrs3_oszi]\n",
    "wrs4_oszi = oszi['link'].map(lambda x: x == 'wrs1-wrs4')\n",
    "wrs4_oszi = oszi[wrs4_oszi]"
   ]
  },
  {
   "cell_type": "markdown",
   "metadata": {},
   "source": [
    "# Plot Temperature Dependencies"
   ]
  },
  {
   "cell_type": "code",
   "execution_count": null,
   "metadata": {},
   "outputs": [],
   "source": [
    "fig = plt.figure(figsize=(10,4))\n",
    "ax1 = fig.add_subplot(1, 1, 1)\n",
    "\n",
    "fpga3_snmp = snmp[wrs3_snmp]\n",
    "tfp3loc = fpga3_snmp['wrsTempFPGA'].loc['2020-01-03':'2020-01-13']\n",
    "tfp3loc.plot(ax=ax1,label=\"FPGA sensor\")\n",
    "\n",
    "pll3_snmp = snmp[wrs3_snmp]\n",
    "pll3loc = pll3_snmp['wrsTempPLL'].loc['2020-01-03':'2020-01-13']\n",
    "pll3loc.plot(ax=ax1,label=\"PLL sensor\")\n",
    "\n",
    "psr3_snmp = snmp[wrs3_snmp]\n",
    "psr3loc = psr3_snmp['wrsTempPSR'].loc['2020-01-03':'2020-01-13']\n",
    "psr3loc.plot(ax=ax1,label=\"PSR sensor\")\n",
    "\n",
    "psl3_snmp = snmp[wrs3_snmp]\n",
    "psl3loc = psl3_snmp['wrsTempPSL'].loc['2020-01-03':'2020-01-13']\n",
    "psl3loc.plot(ax=ax1,label=\"PSL sensor\")\n",
    "\n",
    "ax1.plot(temp['temperature'].loc['2020-01-03':'2020-01-13'], label=\"AIT environment\")\n",
    "\n",
    "plt.xticks(rotation=0)\n",
    "ax1.set_ylabel('Temperature [C]')\n",
    "ax1.legend(loc=1)\n",
    "\n",
    "# fig.savefig('wrs-temperature-values.png',dpi=600)\n"
   ]
  },
  {
   "cell_type": "code",
   "execution_count": null,
   "metadata": {},
   "outputs": [],
   "source": [
    "temploc = temp['temperature'].loc['2020-01-03':'2020-01-13']\n",
    "rtt2loc = rtt2['wrsPtpRTT'].loc['2020-01-03':'2020-01-13']\n",
    "rtt3loc = rtt3['wrsPtpRTT'].loc['2020-01-03':'2020-01-13']\n",
    "rtt4loc = rtt4['wrsPtpRTT'].loc['2020-01-03':'2020-01-13']\n",
    "skw2loc = rtt2['wrsPtpSkew'].loc['2020-01-03':'2020-01-13']\n",
    "skw3loc = rtt3['wrsPtpSkew'].loc['2020-01-03':'2020-01-13']\n",
    "skw4loc = rtt4['wrsPtpSkew'].loc['2020-01-03':'2020-01-13']\n",
    "\n",
    "# temploc = temp['temperature'].loc['2020-01-03':'2020-01-13']\n",
    "osz2loc = wrs2_oszi['skew'].loc['2020-01-03':'2020-01-13']\n",
    "osz3loc = wrs3_oszi['skew'].loc['2020-01-03':'2020-01-13']\n",
    "osz4loc = wrs4_oszi['skew'].loc['2020-01-03':'2020-01-13']\n",
    "rms2loc = wrs2_oszi['skewrms'].loc['2020-01-03':'2020-01-13']\n",
    "rms3loc = wrs3_oszi['skewrms'].loc['2020-01-03':'2020-01-13']\n",
    "rms4loc = wrs4_oszi['skewrms'].loc['2020-01-03':'2020-01-13']"
   ]
  },
  {
   "cell_type": "markdown",
   "metadata": {},
   "source": [
    "## Plot WR Performance "
   ]
  },
  {
   "cell_type": "code",
   "execution_count": null,
   "metadata": {},
   "outputs": [],
   "source": [
    "fig, (ax1, ax2, ax3, ax4) = plt.subplots(4, 1, sharex=True, figsize=(10,9))\n",
    "ax1.grid(), ax2.grid(), ax3.grid(), ax4.grid()\n",
    "\n",
    "ax1.set_title('WR performance for a short optical fiber')\n",
    "ax1.plot(temploc,alpha=0.3,color='red',label='Temperature')\n",
    "ax1.plot(temploc.rolling(\"1h\").mean(),color='red',label='1h average')\n",
    "ax1.set_ylabel('Temperature (Celsius)')\n",
    "\n",
    "ax2.plot(rtt3loc,alpha=0.3, color='blue')\n",
    "ax2.plot((rtt3loc).rolling(\"1h\").mean(),color='blue',label='1h average')\n",
    "ax2.set_ylabel('Round trip time (ps)')\n",
    "\n",
    "ax3.plot(skw3loc,alpha=0.3, color='blue')\n",
    "ax3.plot(skw3loc.rolling(\"1h\").mean(),color='blue',label='1h average')\n",
    "ax3.set_ylabel('PTP skew (ps)')\n",
    "\n",
    "ax4.plot(osz3loc,alpha=0.3, color='green',label='scope skew')\n",
    "ax4.plot(osz3loc.rolling(\"1h\").mean(),color='green',label='1h average')\n",
    "ax4.set_ylabel('PPS Skew (ps)')\n",
    "\n",
    "ax1.legend(), ax2.legend(), ax3.legend(), ax4.legend()\n",
    "\n",
    "# fig.savefig('wrs-temperature-performance-wrs3.png',dpi=600)\n",
    "\n",
    "\n",
    "fig = plt.figure()\n",
    "bins = np.linspace(-50, 50, 100) \n",
    "\n",
    "text = ('PTP Skew (software) = %.1f ps $\\pm$ %.1f ps (MTIE = %0.1f ps)' % (skw3loc.mean(),skw3loc.std(),skw3loc.max()-skw3loc.min()) )\n",
    "ax = skw3loc.hist(alpha=0.3, color='blue', bins=bins, label=text)\n",
    "\n",
    "text = ('PPS Skew (scope) = %.1f ps $\\pm$ %.1f ps (MTIE = %0.1f ps)' % (osz3loc.mean(),osz3loc.std(),osz3loc.max()-osz3loc.min()) )\n",
    "osz3loc.hist(alpha=0.3, color='green', bins=bins, label=text, ax=ax)\n",
    "plt.legend(loc='upper center')\n",
    "\n",
    "plt.xlabel('Skew [ps]')\n",
    "\n",
    "# fig.savefig('wrs-temperature-histogram-wrs3.png',dpi=600)\n",
    "\n"
   ]
  },
  {
   "cell_type": "code",
   "execution_count": null,
   "metadata": {},
   "outputs": [],
   "source": [
    "f, (ax1, ax2, ax3, ax4) = plt.subplots(4, 1, sharex=True, figsize=(10,9))\n",
    "ax1.grid(), ax2.grid(), ax3.grid(), ax4.grid()\n",
    "\n",
    "ax1.set_title('WR performance for a short (uncalibrated) optical fiber')\n",
    "ax1.plot(temploc,alpha=0.3,color='red',label='Temperature')\n",
    "ax1.plot(temploc.rolling(\"1h\").mean(),color='red',label='1h average')\n",
    "ax1.set_ylabel('Temperature (Celsius)')\n",
    "\n",
    "mymean = rtt4loc.mean()\n",
    "ax2.plot(rtt4loc,alpha=0.3, color='blue')\n",
    "ax2.plot((rtt4loc).rolling(\"1h\").mean(),color='blue',label='1h average')\n",
    "ax2.set_ylabel('Round trip time (ps)')\n",
    "\n",
    "ax3.plot(skw4loc,alpha=0.3, color='blue')\n",
    "ax3.plot(skw4loc.rolling(\"1h\").mean(),color='blue',label='1h average')\n",
    "ax3.set_ylabel('PTP skew (ps)')\n",
    "\n",
    "ax4.plot(osz4loc,alpha=0.3, color='green',label='scope skew')\n",
    "ax4.plot(osz4loc.rolling(\"1h\").mean(),color='green',label='1h average')\n",
    "ax4.set_ylabel('PPS Skew (ps)')\n",
    "\n",
    "ax1.legend(), ax2.legend(), ax3.legend(), ax4.legend()\n",
    "\n",
    "\n",
    "\n",
    "fig = plt.figure()\n",
    "bins = np.linspace(-50, 50, 100)\n",
    "\n",
    "text = ('PTP Skew (software) = %.1f ps $\\pm$ %.1f ps (MTIE = %0.1f ps)' % (skw4loc.mean(),skw4loc.std(),skw4loc.max()-skw4loc.min()) )\n",
    "ax = skw4loc.hist(alpha=0.3, color='blue', bins=bins, label=text)\n",
    "\n",
    "text = ('PPS Skew (scope) = %.1f ps $\\pm$ %.1f ps (MTIE = %0.1f ps)' % (osz4loc.mean(),osz4loc.std(),osz4loc.max()-osz4loc.min()) )\n",
    "osz4loc.hist(alpha=0.3, color='green', bins=bins, label=text, ax=ax)\n",
    "\n",
    "plt.legend(loc='upper center')\n"
   ]
  },
  {
   "cell_type": "code",
   "execution_count": null,
   "metadata": {},
   "outputs": [],
   "source": []
  },
  {
   "cell_type": "code",
   "execution_count": null,
   "metadata": {},
   "outputs": [],
   "source": []
  },
  {
   "cell_type": "code",
   "execution_count": null,
   "metadata": {},
   "outputs": [],
   "source": []
  },
  {
   "cell_type": "code",
   "execution_count": null,
   "metadata": {},
   "outputs": [],
   "source": []
  },
  {
   "cell_type": "code",
   "execution_count": null,
   "metadata": {},
   "outputs": [],
   "source": []
  },
  {
   "cell_type": "markdown",
   "metadata": {},
   "source": [
    "## Ignore things below this point!"
   ]
  },
  {
   "cell_type": "code",
   "execution_count": null,
   "metadata": {},
   "outputs": [],
   "source": [
    "fig = plt.figure()\n",
    "\n",
    "# TODO: ensure that the RTT is twice the number of what we measure... \n",
    "#       but still... its not matching expectations\n",
    "\n",
    "mymean = rtt3loc.mean()\n",
    "myval = (rtt3loc-mymean)/2\n",
    "ax = myval.hist(alpha=0.3, color='blue', bins=100, label='Measured in software')\n",
    "(osz3loc-osz3loc.mean()).hist(alpha=0.3, color='green', bins=50, label='Measured with scope', ax=ax)\n",
    "\n",
    "mydiff = myval.max() - myval.min()\n",
    "text = ('mean = %.1f ps\\nsigma = %.1f ps\\nMTIE = %0.1f ps' % (myval.mean(),myval.std(), mydiff) )\n",
    "myval = osz3loc-osz3loc.mean()\n",
    "mydiff = myval.max() - myval.min()\n",
    "text2 = ('mean = %.1f ps\\nsigma = %.1f ps\\nMTIE = %0.1f ps' % (myval.mean(),myval.std(), mydiff) )\n",
    "\n",
    "plt.gca().text(0.05, 0.8, text, color='blue', transform=plt.gca().transAxes)\n",
    "plt.gca().text(0.05, 0.6, text2, transform=plt.gca().transAxes, color='green')\n",
    "plt.legend()\n",
    "\n",
    "fig = plt.figure()\n",
    "\n",
    "mymean = rtt4loc.mean()\n",
    "myval = (rtt4loc-mymean)/2\n",
    "ax = myval.hist(alpha=0.3, color='blue', bins=100, label='Measured in software')\n",
    "(osz4loc-osz4loc.mean()).hist(alpha=0.3, color='green', bins=50, label='Measured with scope', ax=ax)\n",
    "#osz2loc.hist(alpha=0.3, color='green', bins=50, label='Measured with scope', ax=ax)\n",
    "\n",
    "mydiff = myval.max() - myval.min()\n",
    "text = ('mean = %.1f ps\\nsigma = %.1f ps\\nMTIE = %0.1f ps' % (myval.mean(),myval.std(), mydiff) )\n",
    "myval = osz4loc-osz4loc.mean()\n",
    "mydiff = myval.max() - myval.min()\n",
    "text2 = ('mean = %.1f ps\\nsigma = %.1f ps\\nMTIE = %0.1f ps' % (myval.mean(),myval.std(), mydiff) )\n",
    "\n",
    "plt.gca().text(0.05, 0.8, text, color='blue', transform=plt.gca().transAxes)\n",
    "plt.gca().text(0.05, 0.6, text2, transform=plt.gca().transAxes, color='green')\n",
    "plt.legend()"
   ]
  },
  {
   "cell_type": "code",
   "execution_count": null,
   "metadata": {},
   "outputs": [],
   "source": [
    "\n",
    "# Creates two subplots \n",
    "f, (ax1, ax2, ax22, ax3) = plt.subplots(4, 1, sharex=True, figsize=(10,10))\n",
    "ax1.grid(), ax2.grid(), ax3.grid()\n",
    "ax22.grid()\n",
    "\n",
    "ax1.set_title('WR performance for a short optical fiber (obtained via scope measurements)')\n",
    "\n",
    "ax1.plot(temploc,alpha=0.3,color='red',label='Temperature')\n",
    "ax1.plot(temploc.rolling(\"1h\").mean(),color='red',label='1h average')\n",
    "ax1.set_ylabel('Temperature (Celsius)')\n",
    "\n",
    "mymean = osz3loc.mean()\n",
    "ax2.plot(osz3loc-mymean,alpha=0.3, color='green')\n",
    "ax2.plot((osz3loc-mymean).rolling(\"2h\").mean(),color='green',label='2h average')\n",
    "text = ('removed mean of %.1f ps' % mymean )\n",
    "ax2.text(0.02, 0.87, text, transform=ax2.transAxes, color='green')\n",
    "ax2.set_ylabel('PPS Skew (ps)')\n",
    "\n",
    "ax22.plot(tfp1loc,alpha=0.3, label='WRS master', color='yellow')\n",
    "ax22.plot(tfp1loc.rolling(\"2h\").mean(),color='yellow',label='2h average')\n",
    "ax22.plot(tfp3loc,alpha=0.3, color='orange', label='WRS slave')\n",
    "ax22.plot(tfp3loc.rolling(\"2h\").mean(),color='orange',label='2h average')\n",
    "#text = ('removed mean of %.1f ps' % mymean )\n",
    "#ax2.text(0.02, 0.87, text, transform=ax2.transAxes, color='green')\n",
    "ax22.set_ylabel('FPGA temperature')\n",
    "ax22.legend()\n",
    "\n",
    "ax3.plot(rms2loc,alpha=0.3, color='green')\n",
    "ax3.plot(rms2loc.rolling(\"2h\").mean(),color='green',label='2h average')\n",
    "ax3.set_ylabel('RMS of PPS skew (ps)')\n",
    "\n",
    "ax1.legend(), ax2.legend(), ax3.legend()"
   ]
  },
  {
   "cell_type": "code",
   "execution_count": null,
   "metadata": {},
   "outputs": [],
   "source": [
    "# Creates two subplots \n",
    "f, (ax1, ax2, ax3, ax4) = plt.subplots(4, 1, sharex=True, figsize=(12,10))\n",
    "ax1.grid(), ax2.grid(), ax3.grid(), ax4.grid()\n",
    "\n",
    "ax1.set_title('WR link performance for a long optical fiber')\n",
    "\n",
    "ax1.plot(temploc,alpha=0.3,color='red',label='Temperature')\n",
    "ax1.plot(temploc.rolling(\"1h\").mean(),color='red',label='1h average')\n",
    "ax1.set_ylabel('Temperature (Celsius)')\n",
    "\n",
    "ax11 = ax1.twinx()\n",
    "ax11.plot(rtt2loc,alpha=0.2, color='blue')\n",
    "ax11.plot(rtt2loc.rolling(\"2h\").mean(),color='blue',label='2h average')\n",
    "ax11.set_ylabel('Round trip time (ps)')\n",
    "\n",
    "ax2.plot(skw2loc,alpha=0.3, color='blue')\n",
    "ax2.plot(skw2loc.rolling(\"2h\").mean(),color='blue',label='2h average')\n",
    "ax2.set_ylabel('PPS skew (ps)')\n",
    "\n",
    "ax3.plot(osz2loc,alpha=0.3, color='green')\n",
    "ax3.plot(osz2loc.rolling(\"2h\").mean(),color='green',label='2h average')\n",
    "ax3.set_ylabel('PPS Skew (ps)')\n",
    "\n",
    "ax4.plot(rms2loc,alpha=0.3, color='green')\n",
    "ax4.plot(rms2loc.rolling(\"2h\").mean(),color='green',label='2h average')\n",
    "ax4.set_ylabel('RMS of PPS skew (ps)')\n",
    "\n",
    "# plot all labels from different axes into one legend\n",
    "lines, labels = ax1.get_legend_handles_labels()\n",
    "lines2, labels2 = ax11.get_legend_handles_labels()\n",
    "ax11.legend(lines + lines2, labels + labels2, loc=0)\n",
    "ax2.legend(), ax3.legend(), ax4.legend()"
   ]
  },
  {
   "cell_type": "markdown",
   "metadata": {},
   "source": [
    "# Group by constant temperature"
   ]
  },
  {
   "cell_type": "code",
   "execution_count": null,
   "metadata": {},
   "outputs": [],
   "source": [
    "temploc = temp['temperature'].loc['2020-01-06 14':'2020-01-06 22']\n",
    "rtt2loc = rtt2['wrsPtpRTT'].loc['2020-01-06 14':'2020-01-06 22']\n",
    "rtt3loc = rtt3['wrsPtpRTT'].loc['2020-01-06 14':'2020-01-06 22']\n",
    "rtt4loc = rtt4['wrsPtpRTT'].loc['2020-01-06 14':'2020-01-06 22']\n",
    "skw2loc = rtt2['wrsPtpSkew'].loc['2020-01-06 14':'2020-01-06 22']\n",
    "skw3loc = rtt3['wrsPtpSkew'].loc['2020-01-06 14':'2020-01-06 22']\n",
    "skw4loc = rtt4['wrsPtpSkew'].loc['2020-01-06 14':'2020-01-06 22']\n",
    "osz2loc = wrs2_oszi['skew'].loc['2020-01-06 14':'2020-01-06 22']\n",
    "osz3loc = wrs3_oszi['skew'].loc['2020-01-06 14':'2020-01-06 22']\n",
    "osz4loc = wrs4_oszi['skew'].loc['2020-01-06 14':'2020-01-06 22']\n",
    "rms2loc = wrs2_oszi['skewrms'].loc['2020-01-06 14':'2020-01-06 22']\n",
    "rms3loc = wrs3_oszi['skewrms'].loc['2020-01-06 14':'2020-01-06 22']\n",
    "rms4loc = wrs4_oszi['skewrms'].loc['2020-01-06 14':'2020-01-06 22']\n",
    "\n",
    "#temploc.plot()\n",
    "temploc.mean(), temploc.std()\n",
    "\n",
    "((rtt3loc-rtt3loc.mean())/2).plot()"
   ]
  },
  {
   "cell_type": "code",
   "execution_count": null,
   "metadata": {},
   "outputs": [],
   "source": [
    "# Creates three subplots \n",
    "f, (ax1, ax2, ax3) = plt.subplots(3, 1, sharex=True, figsize=(10,8))\n",
    "ax1.grid(), ax2.grid(), ax3.grid()\n",
    "\n",
    "ax1.set_title('WR performance for a long optical fiber (ambient temperature variations)')\n",
    "\n",
    "ax1.plot(temploc,alpha=0.3,color='red',label='Temperature')\n",
    "ax1.plot(temploc.rolling(\"1h\").mean(),color='red',label='1h average')\n",
    "ax1.set_ylabel('Temperature (Celsius)')\n",
    "\n",
    "mymean = rtt2loc.mean()\n",
    "ax2.plot(rtt2loc-mymean,alpha=0.3, color='blue')\n",
    "ax2.plot((rtt2loc-mymean).rolling(\"1h\").mean(),color='blue',label='1h average')\n",
    "ax2.set_ylabel('Round trip time (ps)')\n",
    "text = ('removed mean of %.1f ps' % mymean )\n",
    "ax2.text(0.02, 0.07, text, transform=ax2.transAxes, color='blue')\n",
    "\n",
    "mymean = osz2loc.mean()\n",
    "ax3.plot(osz2loc-mymean,alpha=0.3, color='green')\n",
    "ax3.plot((osz2loc-mymean).rolling(\"1h\").mean(),color='green',label='1h average')\n",
    "ax3.set_ylabel('PPS Skew (ps)')\n",
    "text = ('removed mean of %.1f ps' % mymean )\n",
    "ax3.text(0.02, 0.87, text, transform=ax3.transAxes, color='green')\n",
    "\n",
    "ax1.legend(), ax2.legend(), ax3.legend()"
   ]
  },
  {
   "cell_type": "code",
   "execution_count": null,
   "metadata": {},
   "outputs": [],
   "source": [
    "fig = plt.figure()\n",
    "\n",
    "mymean = rtt2loc.mean()\n",
    "myval = (rtt2loc-mymean)/2\n",
    "ax = myval.hist(alpha=0.3, color='blue', bins=100, label='Measured in software\\n(half round trip time)')\n",
    "(osz2loc-osz2loc.mean()).hist(alpha=0.8, color='green', bins=20, label='Measured with scope\\n(PPS skew)', ax=ax)\n",
    "#osz2loc.hist(alpha=0.3, color='green', bins=50, label='Measured with scope', ax=ax)\n",
    "\n",
    "mydiff = myval.max() - myval.min()\n",
    "text = ('mean = %.1f ps\\nsigma = %.1f ps\\nMTIE = %0.1f ps' % (myval.mean(),myval.std(), mydiff) )\n",
    "myval = osz2loc-osz2loc.mean()\n",
    "mydiff = myval.max() - myval.min()\n",
    "text2 = ('mean = %.1f ps\\nsigma = %.1f ps\\nMTIE = %0.1f ps' % (myval.mean(),myval.std(), mydiff) )\n",
    "\n",
    "plt.gca().text(0.05, 0.8, text, color='blue', transform=plt.gca().transAxes)\n",
    "plt.gca().text(0.05, 0.6, text2, transform=plt.gca().transAxes, color='green')\n",
    "plt.title('Time jitter for a long link (temperature variable)')\n",
    "plt.legend()"
   ]
  },
  {
   "cell_type": "code",
   "execution_count": null,
   "metadata": {},
   "outputs": [],
   "source": [
    "fig = plt.figure(figsize=(15,8))\n",
    "plt.grid(True)\n",
    "\n",
    "ax1 = fig.add_subplot(1, 1, 1)\n",
    "ax1.plot(rtt4.wrsPtpSkew,alpha=0.3,label='PTP skew')\n",
    "ax1.plot(rtt4.wrsPtpSkew.rolling(\"3h\").mean(), color='blue',label='3h average')\n",
    "ax1.set_ylabel('PTP skew (ps)')\n",
    "\n",
    "#ax3.plot(rtt4.wrsPtpRTT,alpha=0.2,color='orange',label='Round Trip Time (RTT)')\n",
    "#ax3.plot(rtt4.wrsPtpRTT.rolling(\"3h\").mean(),color='green',label='3h RTT average')\n",
    "#ax2.set_ylabel('Uncalibrated Round Trip Time (ps)')\n",
    "\n",
    "# plot all labels from different axes into one legend\n",
    "#lines, labels = ax1.get_legend_handles_labels()\n",
    "#lines2, labels2 = ax2.get_legend_handles_labels()\n",
    "#ax2.legend(lines + lines2, labels + labels2, loc=0)"
   ]
  },
  {
   "cell_type": "code",
   "execution_count": null,
   "metadata": {},
   "outputs": [],
   "source": [
    "fig = plt.figure(figsize=(15,10))\n",
    "\n",
    "ax1 = fig.add_subplot(1, 1, 1)\n",
    "ax2 = ax1.twinx()\n",
    "#plt.ticklabel_format(style='sci', axis='y', scilimits=(0,0))\n",
    "plt.grid(True)\n",
    "\n",
    "ax1.plot(temp['temperature'],\n",
    "         alpha=0.3,color='red',label='Temperature')\n",
    "ax1.plot(temp['temperature'].rolling(\"3h\").mean(),\n",
    "         color='red',label='3h average')\n",
    "\n",
    "ax1.set_ylabel('Temperature (Celsius)',fontsize='large')\n",
    "ax1.set_title('Temperature dependence of a short optical fiber between two WR switches')\n",
    "\n",
    "rtt3mean = rtt3['wrsPtpRTT'].mean()\n",
    "ax2.plot(rtt3['wrsPtpRTT']-rtt3mean,\n",
    "         alpha=0.3,label='Round trip time')\n",
    "ax2.plot((rtt3['wrsPtpRTT']-rtt3mean).rolling(\"3h\").mean(), \n",
    "         color='blue',label='3h average')\n",
    "ax2.set_ylabel('Round trip time difference (ps)')\n",
    "\n",
    "text = ('removed mean of \\n%i ps' % rtt3mean )\n",
    "plt.gca().text(0.87, 0.04, text, transform=plt.gca().transAxes, color='blue')\n",
    "\n",
    "\n",
    "# plot all labels from different axes into one legend\n",
    "lines, labels = ax1.get_legend_handles_labels()\n",
    "lines2, labels2 = ax2.get_legend_handles_labels()\n",
    "ax2.legend(lines + lines2, labels + labels2, loc=0)\n"
   ]
  }
 ],
 "metadata": {
  "kernelspec": {
   "display_name": "Python 3",
   "language": "python",
   "name": "python3"
  },
  "language_info": {
   "codemirror_mode": {
    "name": "ipython",
    "version": 3
   },
   "file_extension": ".py",
   "mimetype": "text/x-python",
   "name": "python",
   "nbconvert_exporter": "python",
   "pygments_lexer": "ipython3",
   "version": "3.7.7"
  }
 },
 "nbformat": 4,
 "nbformat_minor": 2
}
